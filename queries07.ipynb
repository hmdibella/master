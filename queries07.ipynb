{
 "cells": [
  {
   "cell_type": "code",
   "execution_count": 5,
   "id": "c43c5883",
   "metadata": {},
   "outputs": [],
   "source": [
    "import pymongo as pm"
   ]
  },
  {
   "cell_type": "code",
   "execution_count": 6,
   "id": "dcba6481",
   "metadata": {},
   "outputs": [],
   "source": [
    "client = pm.MongoClient(\"mongodb://192.168.0.109:27017\")\n",
    "db = client[\"tarea\"]\n",
    "collection = db.get_collection(\"stocks\")"
   ]
  },
  {
   "cell_type": "code",
   "execution_count": 7,
   "id": "5ce22657",
   "metadata": {},
   "outputs": [],
   "source": [
    "# En docs_muerte voy a tener una lista de documentos con el dia y la cantidad total de decesos \n",
    "# en el mundo en ese dia.\n",
    "fase1 = { \"$project\": { \"date_new\": { \"$dateToString\": { \"format\": \"%Y-%m-%d\", \"date\": \"$date\" } }, \n",
    "                        \"new_deaths\": 1 } }\n",
    "fase2 = { \"$group\": { \"_id\": \"$date_new\", \"total_muertes\": { \"$sum\": \"$new_deaths\" } } }\n",
    "docs_muerte = list(db.get_collection(\"covid19\").aggregate( [ fase1, fase2 ] ))"
   ]
  },
  {
   "cell_type": "code",
   "execution_count": null,
   "id": "d19ca031",
   "metadata": {},
   "outputs": [],
   "source": [
    "collection_new = db.create_collection(\"covid-stocks\")"
   ]
  },
  {
   "cell_type": "code",
   "execution_count": 12,
   "id": "f2877e11",
   "metadata": {},
   "outputs": [],
   "source": [
    "# Recorro docs_muerte, y voy obteniendo de stocks para cada dia en la lista, la 5 companias que han \n",
    "# tenido el valor de la accion mas alta. Todo lo guardo en la nueva coleccion.\n",
    "for doc in docs_muerte:\n",
    "    fecha = doc['_id']\n",
    "    fase10 = { \"$match\": { \"DateAsString\": fecha } }\n",
    "    fase11 = { \"$sort\": { \"High\": -1 } }\n",
    "    fase12 = { \"$limit\" : 5 }\n",
    "    docs_comp = list(db.get_collection(\"stocks\").aggregate( [ fase10, fase11, fase12 ] ))\n",
    "    \n",
    "    # armo un array con la lista de las 5 companias, sera vacio si ese dia no hubo cotizaciones.\n",
    "    array_stocks = []\n",
    "    for doc_comp in docs_comp:\n",
    "        # como no quiero mostrar el simbolo, sino el nombre de la compania\n",
    "        # voy a buscarlo a la coleccion stock-reference\n",
    "        nom = list( db.get_collection(\"stock-reference\").find( { \"Symbol\": doc_comp[\"Symbol\"] } ) )\n",
    "        nombre_stock = \"\"\n",
    "        if ( len(nom) > 0 ):\n",
    "            nombre_stock = nom[0][\"Name\"]\n",
    "        \n",
    "        array_stocks.append( { \"Symbol\": doc_comp[\"Symbol\"], \"Name\": nombre_stock, \n",
    "                               \"High\": doc_comp[\"High\"] } )\n",
    "    \n",
    "    # armo el documento y luego lo agrego a la nueva coleccion.\n",
    "    nuevo_doc = { \"DateString\": fecha, \"total_muertes\": doc['total_muertes'], \n",
    "                  \"Stocks\": array_stocks }\n",
    "    db.get_collection(\"covid-stocks\").insert_one( nuevo_doc )\n",
    "    "
   ]
  },
  {
   "cell_type": "code",
   "execution_count": 28,
   "id": "b81f90f9",
   "metadata": {},
   "outputs": [
    {
     "data": {
      "text/plain": [
       "[{'_id': 'ASML',\n",
       "  'Name': 'ASML Holding N.V. New York Registry Shares',\n",
       "  'total_apariciones': 655},\n",
       " {'_id': 'LRCX',\n",
       "  'Name': 'Lam Research Corporation Common Stock',\n",
       "  'total_apariciones': 619},\n",
       " {'_id': 'AVGO',\n",
       "  'Name': 'Broadcom Inc. Common Stock',\n",
       "  'total_apariciones': 602},\n",
       " {'_id': 'ADBE', 'Name': 'Adobe Inc. Common Stock', 'total_apariciones': 517},\n",
       " {'_id': 'INTU', 'Name': 'Intuit Inc. Common Stock', 'total_apariciones': 477},\n",
       " {'_id': 'MPWR',\n",
       "  'Name': 'Monolithic Power Systems Inc. Common Stock',\n",
       "  'total_apariciones': 162},\n",
       " {'_id': 'ZM',\n",
       "  'Name': 'Zoom Video Communications Inc. Class A Common Stock',\n",
       "  'total_apariciones': 99},\n",
       " {'_id': 'VRTX', 'Name': '', 'total_apariciones': 45},\n",
       " {'_id': 'ANSS', 'Name': 'ANSYS Inc. Common Stock', 'total_apariciones': 42},\n",
       " {'_id': 'MDB',\n",
       "  'Name': 'MongoDB Inc. Class A Common Stock',\n",
       "  'total_apariciones': 29},\n",
       " {'_id': 'KLAC',\n",
       "  'Name': 'KLA Corporation Common Stock',\n",
       "  'total_apariciones': 28}]"
      ]
     },
     "execution_count": 28,
     "metadata": {},
     "output_type": "execute_result"
    }
   ],
   "source": [
    "# armo el top 10 de empresas que mas caras tuvieron las acciones en los 1000 dias de mas decesos\n",
    "cant_dias = 1000\n",
    "fase20 = { \"$sort\": { \"total_muertes\": -1 } }\n",
    "fase21 = { \"$limit\" : cant_dias }\n",
    "fase22 = { \"$unwind\": \"$Stocks\" }\n",
    "fase23 = { \"$project\": { \"DateString\": 1, \"total_muertes\": 1, \"Symbol\": \"$Stocks.Symbol\", \n",
    "                         \"Name\": \"$Stocks.Name\" } }\n",
    "fase24 = { \"$group\": { \"_id\": \"$Symbol\", \"Name\" : { \"$first\": \"$Name\" }, \"total_apariciones\": \n",
    "                       { \"$sum\": 1 } } }\n",
    "fase25 = { \"$sort\": { \"total_apariciones\": -1 } }\n",
    "\n",
    "docs = list(db.get_collection(\"covid-stocks\").aggregate( [ fase20, fase21, fase22, fase23, fase24, \n",
    "                                                           fase25 ] ))\n",
    "docs"
   ]
  },
  {
   "cell_type": "code",
   "execution_count": null,
   "id": "063ff97d",
   "metadata": {},
   "outputs": [],
   "source": []
  }
 ],
 "metadata": {
  "kernelspec": {
   "display_name": "Python 3 (ipykernel)",
   "language": "python",
   "name": "python3"
  },
  "language_info": {
   "codemirror_mode": {
    "name": "ipython",
    "version": 3
   },
   "file_extension": ".py",
   "mimetype": "text/x-python",
   "name": "python",
   "nbconvert_exporter": "python",
   "pygments_lexer": "ipython3",
   "version": "3.11.5"
  }
 },
 "nbformat": 4,
 "nbformat_minor": 5
}
